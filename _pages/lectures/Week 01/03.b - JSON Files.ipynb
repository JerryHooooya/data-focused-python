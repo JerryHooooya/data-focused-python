{
 "cells": [
  {
   "cell_type": "raw",
   "metadata": {},
   "source": [
    "---\n",
    "toc: true\n",
    "toc_sticky: true\n",
    "toc_label: \"Page Contents\"\n",
    "toc_icon: \"cog\"\n",
    "---"
   ]
  },
  {
   "cell_type": "markdown",
   "metadata": {},
   "source": [
    "# JSON Files\n",
    "[Working With JSON Data in Python](https://realpython.com/python-json/)"
   ]
  },
  {
   "cell_type": "code",
   "execution_count": 31,
   "metadata": {},
   "outputs": [
    {
     "name": "stdout",
     "output_type": "stream",
     "text": [
      "{'scores': [{'date': '2019-05-01', 'home_team': 'Pirates', 'home_score': 0, 'away_team': 'Cubs', 'away_score': 10}, {'date': '2019-05-15', 'home_team': 'Reds', 'home_score': 7, 'away_team': 'Pirates', 'away_score': 0}]}\n"
     ]
    }
   ],
   "source": [
    "# scores dictionary\n",
    "scores = {\n",
    "    'scores':[\n",
    "        {\n",
    "            'date': '2019-05-01', \n",
    "            'home_team': 'Pirates', \n",
    "            'home_score': 0, \n",
    "            'away_team': 'Cubs', \n",
    "            'away_score': 10\n",
    "        },\n",
    "        {\n",
    "            'date': '2019-05-15', \n",
    "            'home_team': 'Reds', \n",
    "            'home_score': 7, \n",
    "            'away_team': 'Pirates', \n",
    "            'away_score': 0\n",
    "        }\n",
    "    ]\n",
    "}\n",
    "print(scores)"
   ]
  },
  {
   "cell_type": "markdown",
   "metadata": {},
   "source": [
    "## Python Serialization\n",
    "\n",
    "In this instance, serialization is the process of converting the python objects to JSON. Python object types get serialized to the following JSON types.\n",
    "\n",
    "Python | JSON\n",
    "--- | ---\n",
    "dict | object\n",
    "list, tuple | array\n",
    "str\t| string\n",
    "int, long, float | number\n",
    "True | true\n",
    "False | false\n",
    "None | null"
   ]
  },
  {
   "cell_type": "code",
   "execution_count": 32,
   "metadata": {},
   "outputs": [
    {
     "name": "stdout",
     "output_type": "stream",
     "text": [
      "{\"scores\": [{\"date\": \"2019-05-01\", \"home_team\": \"Pirates\", \"home_score\": 0, \"away_team\": \"Cubs\", \"away_score\": 10}, {\"date\": \"2019-05-15\", \"home_team\": \"Reds\", \"home_score\": 7, \"away_team\": \"Pirates\", \"away_score\": 0}]}\n"
     ]
    }
   ],
   "source": [
    "import json\n",
    "\n",
    "scores_json = json.dumps(scores)\n",
    "print(scores_json)"
   ]
  },
  {
   "cell_type": "code",
   "execution_count": 33,
   "metadata": {},
   "outputs": [
    {
     "name": "stdout",
     "output_type": "stream",
     "text": [
      "{\n",
      "    \"scores\": [\n",
      "        {\n",
      "            \"date\": \"2019-05-01\",\n",
      "            \"home_team\": \"Pirates\",\n",
      "            \"home_score\": 0,\n",
      "            \"away_team\": \"Cubs\",\n",
      "            \"away_score\": 10\n",
      "        },\n",
      "        {\n",
      "            \"date\": \"2019-05-15\",\n",
      "            \"home_team\": \"Reds\",\n",
      "            \"home_score\": 7,\n",
      "            \"away_team\": \"Pirates\",\n",
      "            \"away_score\": 0\n",
      "        }\n",
      "    ]\n",
      "}\n"
     ]
    }
   ],
   "source": [
    "# changing whitespace\n",
    "scores_json = json.dumps(scores, indent=4)\n",
    "print(scores_json)"
   ]
  },
  {
   "cell_type": "code",
   "execution_count": 34,
   "metadata": {},
   "outputs": [
    {
     "name": "stdout",
     "output_type": "stream",
     "text": [
      "{\"scores\":[{\"date\":\"2019-05-01\",\"home_team\":\"Pirates\",\"home_score\":0,\"away_team\":\"Cubs\",\"away_score\":10},{\"date\":\"2019-05-15\",\"home_team\":\"Reds\",\"home_score\":7,\"away_team\":\"Pirates\",\"away_score\":0}]}\n"
     ]
    }
   ],
   "source": [
    "# compacting\n",
    "scores_json = json.dumps(scores, separators=(',', ':'))\n",
    "print(scores_json)"
   ]
  },
  {
   "cell_type": "markdown",
   "metadata": {},
   "source": [
    "## Writing JSON files"
   ]
  },
  {
   "cell_type": "code",
   "execution_count": 35,
   "metadata": {
    "collapsed": true
   },
   "outputs": [],
   "source": [
    "with open(\"scores.json\", \"w\") as f:\n",
    "    json.dump(scores, f)"
   ]
  },
  {
   "cell_type": "markdown",
   "metadata": {
    "collapsed": true
   },
   "source": [
    "## Reading JSON files"
   ]
  },
  {
   "cell_type": "code",
   "execution_count": 36,
   "metadata": {},
   "outputs": [
    {
     "name": "stdout",
     "output_type": "stream",
     "text": [
      "{'scores': [{'date': '2019-05-01', 'home_team': 'Pirates', 'home_score': 0, 'away_team': 'Cubs', 'away_score': 10}, {'date': '2019-05-15', 'home_team': 'Reds', 'home_score': 7, 'away_team': 'Pirates', 'away_score': 0}]}\n"
     ]
    }
   ],
   "source": [
    "# open and print line by line\n",
    "with open('scores.json', \"r\") as f:\n",
    "    s = json.load(f)\n",
    "    print(s)"
   ]
  },
  {
   "cell_type": "code",
   "execution_count": null,
   "metadata": {
    "collapsed": true
   },
   "outputs": [],
   "source": []
  }
 ],
 "metadata": {
  "kernelspec": {
   "display_name": "Python 3",
   "language": "python",
   "name": "python3"
  },
  "language_info": {
   "codemirror_mode": {
    "name": "ipython",
    "version": 3
   },
   "file_extension": ".py",
   "mimetype": "text/x-python",
   "name": "python",
   "nbconvert_exporter": "python",
   "pygments_lexer": "ipython3",
   "version": "3.6.4"
  }
 },
 "nbformat": 4,
 "nbformat_minor": 2
}
