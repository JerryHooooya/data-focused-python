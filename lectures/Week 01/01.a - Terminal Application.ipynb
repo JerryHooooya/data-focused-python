{
 "cells": [
  {
   "cell_type": "raw",
   "metadata": {},
   "source": [
    "---\n",
    "toc: true\n",
    "toc_sticky: true\n",
    "toc_label: \"Page Contents\"\n",
    "toc_icon: \"cog\"\n",
    "---"
   ]
  },
  {
   "cell_type": "markdown",
   "metadata": {},
   "source": [
    "# Basic Terminal Apps\n",
    "[Basic Terminal Apps](http://introtopython.org/terminal_apps.html)"
   ]
  },
  {
   "cell_type": "code",
   "execution_count": 2,
   "metadata": {},
   "outputs": [
    {
     "name": "stdout",
     "output_type": "stream",
     "text": [
      "hello class\n"
     ]
    }
   ],
   "source": [
    "# Show a simple message\n",
    "print('hello class')"
   ]
  },
  {
   "cell_type": "markdown",
   "metadata": {},
   "source": [
    "Modify the code to clear the screen after the message is displayed."
   ]
  },
  {
   "cell_type": "code",
   "execution_count": 4,
   "metadata": {},
   "outputs": [
    {
     "name": "stdout",
     "output_type": "stream",
     "text": [
      "I like climbing mountains.\n"
     ]
    },
    {
     "data": {
      "text/plain": [
       "0"
      ]
     },
     "execution_count": 4,
     "metadata": {},
     "output_type": "execute_result"
    }
   ],
   "source": [
    "import os\n",
    "\n",
    "# Clear the screen.\n",
    "os.system('clear')\n",
    "\n",
    "# Show a simple message.\n",
    "print(\"hello class\")"
   ]
  },
  {
   "cell_type": "markdown",
   "metadata": {},
   "source": [
    "## Print a title bar"
   ]
  },
  {
   "cell_type": "code",
   "execution_count": 11,
   "metadata": {},
   "outputs": [
    {
     "name": "stdout",
     "output_type": "stream",
     "text": [
      "**********************************************\n",
      "***  Hello to everyone in class today!     ***\n",
      "**********************************************\n",
      "We will learn interesting things in Week 01\n",
      "We will learn interesting things in Week 02\n",
      "We will learn interesting things in Week 03\n",
      "We will learn interesting things in Week 04\n",
      "We will learn interesting things in Week 05\n",
      "We will learn interesting things in Week 06\n",
      "We will learn interesting things in Week 07\n"
     ]
    }
   ],
   "source": [
    "import os\n",
    "\n",
    "# Clear the screen.\n",
    "os.system('clear')\n",
    "\n",
    "# Display a title bar.\n",
    "print(\"**********************************************\")\n",
    "print(\"***  Hello to everyone in class today!     ***\")\n",
    "print(\"**********************************************\")\n",
    "\n",
    "# Display a bunch of output, representing a long-running program.\n",
    "for week in range(1,8):\n",
    "    print(f\"We will learn interesting things in Week {week:02}\")"
   ]
  },
  {
   "cell_type": "markdown",
   "metadata": {},
   "source": [
    "## The sleep function"
   ]
  },
  {
   "cell_type": "code",
   "execution_count": 16,
   "metadata": {},
   "outputs": [
    {
     "name": "stdout",
     "output_type": "stream",
     "text": [
      "**********************************************\n",
      "***  Hello to everyone in class today!     ***\n",
      "**********************************************\n",
      "We will learn interesting things in Week 01\n",
      "We will learn interesting things in Week 02\n",
      "We will learn interesting things in Week 03\n",
      "We will learn interesting things in Week 04\n",
      "We will learn interesting things in Week 05\n",
      "We will learn interesting things in Week 06\n",
      "We will learn interesting things in Week 07\n"
     ]
    }
   ],
   "source": [
    "import os\n",
    "from time import sleep\n",
    "\n",
    "# Clear the screen.\n",
    "os.system('clear')\n",
    "\n",
    "# Display a title bar.\n",
    "print(\"**********************************************\")\n",
    "print(\"***  Hello to everyone in class today!     ***\")\n",
    "print(\"**********************************************\")\n",
    "\n",
    "# Display a bunch of output, representing a long-running program.\n",
    "for week in range(1,8):\n",
    "    sleep(1)\n",
    "    print(f\"We will learn interesting things in Week {week:02}\")"
   ]
  },
  {
   "cell_type": "markdown",
   "metadata": {},
   "source": [
    "## Accepting arguments\n",
    "\n",
    "You can pass arguments into your application to dynamically change the behavior at run time. \n",
    "\n",
    "See [terminal_1.py](terminal_1.py)\n",
    "\n",
    "```python\n",
    "import sys\n",
    "import os\n",
    "from time import sleep\n",
    "\n",
    "adjective = sys.argv[1]\n",
    "num_weeks = int(sys.argv[2])\n",
    "\n",
    "os.system('clear')\n",
    "    \n",
    "print(\"**********************************************\")\n",
    "print(\"***  Hello to everyone in class today!     ***\")\n",
    "print(\"**********************************************\")\n",
    "\n",
    "for week in range(1, num_weeks + 1):\n",
    "    sleep(1)\n",
    "    print(f\"We will learn {adjective} things in Week {week:02}\")\n",
    "```\n",
    "\n",
    "Note:\n",
    "* sys.argv[1] is the 1st parameter passed in. \n",
    "* sys.argv[0] represents the path of the file being run\n",
    "* all arguments are strings by default, you can cast these to other data types"
   ]
  },
  {
   "cell_type": "code",
   "execution_count": 20,
   "metadata": {},
   "outputs": [
    {
     "name": "stdout",
     "output_type": "stream",
     "text": [
      "\u001b[H\u001b[2J**********************************************\n",
      "***  Hello to everyone in class today!     ***\n",
      "**********************************************\n",
      "We will learn fun things in Week 01\n",
      "We will learn fun things in Week 02\n",
      "We will learn fun things in Week 03\n"
     ]
    }
   ],
   "source": [
    "!python terminal_1.py fun 3"
   ]
  },
  {
   "cell_type": "markdown",
   "metadata": {},
   "source": [
    "Here we slightly modify the code to process a list of arguments. Since all arguments are strings we'll pass in a comma separated list of values.\n",
    "\n",
    "See [terminal_2.py](terminal_2.py)\n",
    "\n",
    "```python\n",
    "import sys\n",
    "import os\n",
    "from time import sleep\n",
    "\n",
    "adjectives = sys.argv[1]\n",
    "\n",
    "os.system('clear')\n",
    "    \n",
    "print(\"**********************************************\")\n",
    "print(\"***  Hello to everyone in class today!     ***\")\n",
    "print(\"**********************************************\")\n",
    "\n",
    "for week, adjective in enumerate(adjectives.split(',')):\n",
    "    sleep(1)\n",
    "    print(f\"We will learn {adjective} things in Week {(week + 1):02}\")\n",
    "```\n",
    "\n",
    "Note:\n",
    "* adjectives is a string which we'll split on commas to create a list\n",
    "* we use enumerate to keep track of the index we're currently processing\n",
    "* since index is zero based, we'll add 1 in the print statement to associate the index with the correct week"
   ]
  },
  {
   "cell_type": "code",
   "execution_count": 21,
   "metadata": {},
   "outputs": [
    {
     "name": "stdout",
     "output_type": "stream",
     "text": [
      "\u001b[H\u001b[2J**********************************************\n",
      "***  Hello to everyone in class today!     ***\n",
      "**********************************************\n",
      "We will learn fun things in Week 01\n",
      "We will learn interesting things in Week 02\n",
      "We will learn exciting things in Week 03\n"
     ]
    }
   ],
   "source": [
    "!python terminal_2.py \"fun,interesting,exciting\""
   ]
  },
  {
   "cell_type": "code",
   "execution_count": null,
   "metadata": {
    "collapsed": true
   },
   "outputs": [],
   "source": []
  }
 ],
 "metadata": {
  "kernelspec": {
   "display_name": "Python 3",
   "language": "python",
   "name": "python3"
  },
  "language_info": {
   "codemirror_mode": {
    "name": "ipython",
    "version": 3
   },
   "file_extension": ".py",
   "mimetype": "text/x-python",
   "name": "python",
   "nbconvert_exporter": "python",
   "pygments_lexer": "ipython3",
   "version": "3.6.3"
  }
 },
 "nbformat": 4,
 "nbformat_minor": 2
}
